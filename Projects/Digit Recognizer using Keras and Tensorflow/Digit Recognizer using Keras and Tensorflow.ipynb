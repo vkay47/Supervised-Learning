{
 "cells": [
  {
   "cell_type": "code",
   "execution_count": 3,
   "id": "d510f344",
   "metadata": {},
   "outputs": [],
   "source": [
    "import pandas as pd\n",
    "import tensorflow as tf\n",
    "import matplotlib.pyplot as plt"
   ]
  },
  {
   "cell_type": "code",
   "execution_count": 10,
   "id": "a8fe30e5",
   "metadata": {},
   "outputs": [
    {
     "name": "stdout",
     "output_type": "stream",
     "text": [
      "Downloading data from https://storage.googleapis.com/tensorflow/tf-keras-datasets/mnist.npz\n",
      "11490434/11490434 [==============================] - 1s 0us/step\n"
     ]
    }
   ],
   "source": [
    "(train_images, train_labels), (test_images, test_labels) = tf.keras.datasets.mnist.load_data()"
   ]
  },
  {
   "cell_type": "code",
   "execution_count": 12,
   "id": "7311d13f",
   "metadata": {},
   "outputs": [],
   "source": [
    "#scaling the values of pixels so that its tensorflow workable (0-255) to (0-1)\n",
    "\n",
    "train_images=train_images/255.0\n",
    "test_images=test_images/255.0"
   ]
  },
  {
   "cell_type": "code",
   "execution_count": 15,
   "id": "920621fa",
   "metadata": {},
   "outputs": [
    {
     "name": "stdout",
     "output_type": "stream",
     "text": [
      "(60000, 28, 28)\n",
      "(10000, 28, 28)\n",
      "[5 0 4 ... 5 6 8]\n"
     ]
    },
    {
     "data": {
      "image/png": "[encoded data removed]",
      "text/plain": [
       "<Figure size 640x480 with 1 Axes>"
      ]
     },
     "metadata": {},
     "output_type": "display_data"
    }
   ],
   "source": [
    "#visualizing the data\n",
    "\n",
    "print(train_images.shape)\n",
    "print(test_images.shape)\n",
    "print(train_labels)\n",
    "\n",
    "plt.imshow(train_images[11], cmap='gray')\n",
    "plt.show()"
   ]
  },
  {
   "cell_type": "code",
   "execution_count": 20,
   "id": "98eb5cb7",
   "metadata": {},
   "outputs": [],
   "source": [
    "#Initiating the neural network\n",
    "\n",
    "new_model= tf.keras.models.Sequential()\n",
    "new_model.add(tf.keras.layers.Flatten(input_shape=(28,28)))\n",
    "new_model.add(tf.keras.layers.Dense(128, activation='relu'))\n",
    "new_model.add(tf.keras.layers.Dense(10, activation='softmax'))\n",
    "\n",
    "# Model Compilation\n",
    "\n",
    "new_model.compile(optimizer='adam', loss='sparse_categorical_crossentropy', metrics=['accuracy'])"
   ]
  },
  {
   "cell_type": "code",
   "execution_count": 25,
   "id": "9601f23c",
   "metadata": {},
   "outputs": [
    {
     "name": "stdout",
     "output_type": "stream",
     "text": [
      "Epoch 1/4\n",
      "1875/1875 [==============================] - 2s 880us/step - loss: 0.3379 - accuracy: 0.9047\n",
      "Epoch 2/4\n",
      "1875/1875 [==============================] - 2s 877us/step - loss: 0.3141 - accuracy: 0.9103\n",
      "Epoch 3/4\n",
      "1875/1875 [==============================] - 2s 892us/step - loss: 0.2978 - accuracy: 0.9147\n",
      "Epoch 4/4\n",
      "1875/1875 [==============================] - 2s 880us/step - loss: 0.2846 - accuracy: 0.9173\n"
     ]
    },
    {
     "data": {
      "text/plain": [
       "<keras.callbacks.History at 0x23c8364e1c0>"
      ]
     },
     "execution_count": 25,
     "metadata": {},
     "output_type": "execute_result"
    }
   ],
   "source": [
    "# model Training and testing\n",
    "\n",
    "new_model.fit(train_images, train_labels, epochs=4)\n"
   ]
  },
  {
   "cell_type": "code",
   "execution_count": 26,
   "id": "972ed4e4",
   "metadata": {},
   "outputs": [
    {
     "name": "stdout",
     "output_type": "stream",
     "text": [
      "313/313 [==============================] - 0s 687us/step - loss: 0.2724 - accuracy: 0.9200\n",
      "Test Accuracy 0.9200000166893005\n"
     ]
    }
   ],
   "source": [
    "# Accuracy Check\n",
    "\n",
    "value_loss, value_acc= new_model.evaluate(test_images,test_labels)\n",
    "print('Test Accuracy', value_acc)"
   ]
  },
  {
   "cell_type": "code",
   "execution_count": 27,
   "id": "c633f868",
   "metadata": {},
   "outputs": [
    {
     "name": "stderr",
     "output_type": "stream",
     "text": [
      "WARNING:absl:Found untraced functions such as _update_step_xla while saving (showing 1 of 1). These functions will not be directly callable after loading.\n"
     ]
    },
    {
     "name": "stdout",
     "output_type": "stream",
     "text": [
      "INFO:tensorflow:Assets written to: First_mnist_model\\assets\n"
     ]
    },
    {
     "name": "stderr",
     "output_type": "stream",
     "text": [
      "INFO:tensorflow:Assets written to: First_mnist_model\\assets\n"
     ]
    }
   ],
   "source": [
    "new_model.save('First_mnist_model')"
   ]
  },
  {
   "cell_type": "code",
   "execution_count": null,
   "id": "265d98e8",
   "metadata": {},
   "outputs": [],
   "source": []
  }
 ],
 "metadata": {
  "kernelspec": {
   "display_name": "Python 3 (ipykernel)",
   "language": "python",
   "name": "python3"
  },
  "language_info": {
   "codemirror_mode": {
    "name": "ipython",
    "version": 3
   },
   "file_extension": ".py",
   "mimetype": "text/x-python",
   "name": "python",
   "nbconvert_exporter": "python",
   "pygments_lexer": "ipython3",
   "version": "3.9.13"
  }
 },
 "nbformat": 4,
 "nbformat_minor": 5
}
